{
 "cells": [
  {
   "cell_type": "code",
   "execution_count": 1,
   "metadata": {},
   "outputs": [],
   "source": [
    "import numpy as np\n",
    "import pandas as pd\n",
    "import matplotlib.pyplot as plt"
   ]
  },
  {
   "cell_type": "code",
   "execution_count": 2,
   "metadata": {},
   "outputs": [
    {
     "data": {
      "text/html": [
       "<div>\n",
       "<style scoped>\n",
       "    .dataframe tbody tr th:only-of-type {\n",
       "        vertical-align: middle;\n",
       "    }\n",
       "\n",
       "    .dataframe tbody tr th {\n",
       "        vertical-align: top;\n",
       "    }\n",
       "\n",
       "    .dataframe thead th {\n",
       "        text-align: right;\n",
       "    }\n",
       "</style>\n",
       "<table border=\"1\" class=\"dataframe\">\n",
       "  <thead>\n",
       "    <tr style=\"text-align: right;\">\n",
       "      <th></th>\n",
       "      <th>Years Experience</th>\n",
       "      <th>Employed?</th>\n",
       "      <th>Previous employers</th>\n",
       "      <th>Level of Education</th>\n",
       "      <th>Top-tier school</th>\n",
       "      <th>Interned</th>\n",
       "      <th>Hired</th>\n",
       "    </tr>\n",
       "  </thead>\n",
       "  <tbody>\n",
       "    <tr>\n",
       "      <th>0</th>\n",
       "      <td>10</td>\n",
       "      <td>Y</td>\n",
       "      <td>4</td>\n",
       "      <td>BS</td>\n",
       "      <td>N</td>\n",
       "      <td>N</td>\n",
       "      <td>Y</td>\n",
       "    </tr>\n",
       "    <tr>\n",
       "      <th>1</th>\n",
       "      <td>0</td>\n",
       "      <td>N</td>\n",
       "      <td>0</td>\n",
       "      <td>BS</td>\n",
       "      <td>Y</td>\n",
       "      <td>Y</td>\n",
       "      <td>Y</td>\n",
       "    </tr>\n",
       "    <tr>\n",
       "      <th>2</th>\n",
       "      <td>7</td>\n",
       "      <td>N</td>\n",
       "      <td>6</td>\n",
       "      <td>BS</td>\n",
       "      <td>N</td>\n",
       "      <td>N</td>\n",
       "      <td>N</td>\n",
       "    </tr>\n",
       "    <tr>\n",
       "      <th>3</th>\n",
       "      <td>2</td>\n",
       "      <td>Y</td>\n",
       "      <td>1</td>\n",
       "      <td>MS</td>\n",
       "      <td>Y</td>\n",
       "      <td>N</td>\n",
       "      <td>Y</td>\n",
       "    </tr>\n",
       "    <tr>\n",
       "      <th>4</th>\n",
       "      <td>20</td>\n",
       "      <td>N</td>\n",
       "      <td>2</td>\n",
       "      <td>PhD</td>\n",
       "      <td>Y</td>\n",
       "      <td>N</td>\n",
       "      <td>N</td>\n",
       "    </tr>\n",
       "    <tr>\n",
       "      <th>5</th>\n",
       "      <td>0</td>\n",
       "      <td>N</td>\n",
       "      <td>0</td>\n",
       "      <td>PhD</td>\n",
       "      <td>Y</td>\n",
       "      <td>Y</td>\n",
       "      <td>Y</td>\n",
       "    </tr>\n",
       "    <tr>\n",
       "      <th>6</th>\n",
       "      <td>5</td>\n",
       "      <td>Y</td>\n",
       "      <td>2</td>\n",
       "      <td>MS</td>\n",
       "      <td>N</td>\n",
       "      <td>Y</td>\n",
       "      <td>Y</td>\n",
       "    </tr>\n",
       "    <tr>\n",
       "      <th>7</th>\n",
       "      <td>3</td>\n",
       "      <td>N</td>\n",
       "      <td>1</td>\n",
       "      <td>BS</td>\n",
       "      <td>N</td>\n",
       "      <td>Y</td>\n",
       "      <td>Y</td>\n",
       "    </tr>\n",
       "    <tr>\n",
       "      <th>8</th>\n",
       "      <td>15</td>\n",
       "      <td>Y</td>\n",
       "      <td>5</td>\n",
       "      <td>BS</td>\n",
       "      <td>N</td>\n",
       "      <td>N</td>\n",
       "      <td>Y</td>\n",
       "    </tr>\n",
       "    <tr>\n",
       "      <th>9</th>\n",
       "      <td>0</td>\n",
       "      <td>N</td>\n",
       "      <td>0</td>\n",
       "      <td>BS</td>\n",
       "      <td>N</td>\n",
       "      <td>N</td>\n",
       "      <td>N</td>\n",
       "    </tr>\n",
       "    <tr>\n",
       "      <th>10</th>\n",
       "      <td>1</td>\n",
       "      <td>N</td>\n",
       "      <td>1</td>\n",
       "      <td>PhD</td>\n",
       "      <td>Y</td>\n",
       "      <td>N</td>\n",
       "      <td>N</td>\n",
       "    </tr>\n",
       "    <tr>\n",
       "      <th>11</th>\n",
       "      <td>4</td>\n",
       "      <td>Y</td>\n",
       "      <td>1</td>\n",
       "      <td>BS</td>\n",
       "      <td>N</td>\n",
       "      <td>Y</td>\n",
       "      <td>Y</td>\n",
       "    </tr>\n",
       "    <tr>\n",
       "      <th>12</th>\n",
       "      <td>0</td>\n",
       "      <td>N</td>\n",
       "      <td>0</td>\n",
       "      <td>PhD</td>\n",
       "      <td>Y</td>\n",
       "      <td>N</td>\n",
       "      <td>Y</td>\n",
       "    </tr>\n",
       "  </tbody>\n",
       "</table>\n",
       "</div>"
      ],
      "text/plain": [
       "    Years Experience Employed?  Previous employers Level of Education  \\\n",
       "0                 10         Y                   4                 BS   \n",
       "1                  0         N                   0                 BS   \n",
       "2                  7         N                   6                 BS   \n",
       "3                  2         Y                   1                 MS   \n",
       "4                 20         N                   2                PhD   \n",
       "5                  0         N                   0                PhD   \n",
       "6                  5         Y                   2                 MS   \n",
       "7                  3         N                   1                 BS   \n",
       "8                 15         Y                   5                 BS   \n",
       "9                  0         N                   0                 BS   \n",
       "10                 1         N                   1                PhD   \n",
       "11                 4         Y                   1                 BS   \n",
       "12                 0         N                   0                PhD   \n",
       "\n",
       "   Top-tier school Interned Hired  \n",
       "0                N        N     Y  \n",
       "1                Y        Y     Y  \n",
       "2                N        N     N  \n",
       "3                Y        N     Y  \n",
       "4                Y        N     N  \n",
       "5                Y        Y     Y  \n",
       "6                N        Y     Y  \n",
       "7                N        Y     Y  \n",
       "8                N        N     Y  \n",
       "9                N        N     N  \n",
       "10               Y        N     N  \n",
       "11               N        Y     Y  \n",
       "12               Y        N     Y  "
      ]
     },
     "execution_count": 2,
     "metadata": {},
     "output_type": "execute_result"
    }
   ],
   "source": [
    "data=pd.read_csv(\"Hires.csv\")\n",
    "data"
   ]
  },
  {
   "cell_type": "code",
   "execution_count": 3,
   "metadata": {},
   "outputs": [
    {
     "data": {
      "text/plain": [
       "Years Experience      0\n",
       "Employed?             0\n",
       "Previous employers    0\n",
       "Level of Education    0\n",
       "Top-tier school       0\n",
       "Interned              0\n",
       "Hired                 0\n",
       "dtype: int64"
      ]
     },
     "execution_count": 3,
     "metadata": {},
     "output_type": "execute_result"
    }
   ],
   "source": [
    "data.isnull().sum()"
   ]
  },
  {
   "cell_type": "code",
   "execution_count": 4,
   "metadata": {},
   "outputs": [
    {
     "data": {
      "text/plain": [
       "array(['Y', 'N'], dtype=object)"
      ]
     },
     "execution_count": 4,
     "metadata": {},
     "output_type": "execute_result"
    }
   ],
   "source": [
    "data[\"Employed?\"].unique()"
   ]
  },
  {
   "cell_type": "code",
   "execution_count": 5,
   "metadata": {},
   "outputs": [
    {
     "data": {
      "text/plain": [
       "array(['BS', 'MS', 'PhD'], dtype=object)"
      ]
     },
     "execution_count": 5,
     "metadata": {},
     "output_type": "execute_result"
    }
   ],
   "source": [
    "data[\"Level of Education\"].unique()"
   ]
  },
  {
   "cell_type": "code",
   "execution_count": 6,
   "metadata": {},
   "outputs": [
    {
     "data": {
      "text/plain": [
       "array(['N', 'Y'], dtype=object)"
      ]
     },
     "execution_count": 6,
     "metadata": {},
     "output_type": "execute_result"
    }
   ],
   "source": [
    "data[\"Top-tier school\"].unique()"
   ]
  },
  {
   "cell_type": "code",
   "execution_count": 7,
   "metadata": {},
   "outputs": [
    {
     "data": {
      "text/plain": [
       "array(['N', 'Y'], dtype=object)"
      ]
     },
     "execution_count": 7,
     "metadata": {},
     "output_type": "execute_result"
    }
   ],
   "source": [
    "data[\"Interned\"].unique()"
   ]
  },
  {
   "cell_type": "code",
   "execution_count": 8,
   "metadata": {},
   "outputs": [
    {
     "data": {
      "text/plain": [
       "array(['Y', 'N'], dtype=object)"
      ]
     },
     "execution_count": 8,
     "metadata": {},
     "output_type": "execute_result"
    }
   ],
   "source": [
    "data[\"Hired\"].unique()"
   ]
  },
  {
   "cell_type": "code",
   "execution_count": 9,
   "metadata": {},
   "outputs": [],
   "source": [
    "data0=data.copy()"
   ]
  },
  {
   "cell_type": "code",
   "execution_count": 10,
   "metadata": {},
   "outputs": [
    {
     "data": {
      "text/html": [
       "<div>\n",
       "<style scoped>\n",
       "    .dataframe tbody tr th:only-of-type {\n",
       "        vertical-align: middle;\n",
       "    }\n",
       "\n",
       "    .dataframe tbody tr th {\n",
       "        vertical-align: top;\n",
       "    }\n",
       "\n",
       "    .dataframe thead th {\n",
       "        text-align: right;\n",
       "    }\n",
       "</style>\n",
       "<table border=\"1\" class=\"dataframe\">\n",
       "  <thead>\n",
       "    <tr style=\"text-align: right;\">\n",
       "      <th></th>\n",
       "      <th>Years Experience</th>\n",
       "      <th>Employed?</th>\n",
       "      <th>Previous employers</th>\n",
       "      <th>Level of Education</th>\n",
       "      <th>Top-tier school</th>\n",
       "      <th>Interned</th>\n",
       "      <th>Hired</th>\n",
       "    </tr>\n",
       "  </thead>\n",
       "  <tbody>\n",
       "    <tr>\n",
       "      <th>0</th>\n",
       "      <td>10</td>\n",
       "      <td>1</td>\n",
       "      <td>4</td>\n",
       "      <td>1</td>\n",
       "      <td>0</td>\n",
       "      <td>0</td>\n",
       "      <td>1</td>\n",
       "    </tr>\n",
       "    <tr>\n",
       "      <th>1</th>\n",
       "      <td>0</td>\n",
       "      <td>0</td>\n",
       "      <td>0</td>\n",
       "      <td>1</td>\n",
       "      <td>1</td>\n",
       "      <td>1</td>\n",
       "      <td>1</td>\n",
       "    </tr>\n",
       "    <tr>\n",
       "      <th>2</th>\n",
       "      <td>7</td>\n",
       "      <td>0</td>\n",
       "      <td>6</td>\n",
       "      <td>1</td>\n",
       "      <td>0</td>\n",
       "      <td>0</td>\n",
       "      <td>0</td>\n",
       "    </tr>\n",
       "    <tr>\n",
       "      <th>3</th>\n",
       "      <td>2</td>\n",
       "      <td>1</td>\n",
       "      <td>1</td>\n",
       "      <td>2</td>\n",
       "      <td>1</td>\n",
       "      <td>0</td>\n",
       "      <td>1</td>\n",
       "    </tr>\n",
       "    <tr>\n",
       "      <th>4</th>\n",
       "      <td>20</td>\n",
       "      <td>0</td>\n",
       "      <td>2</td>\n",
       "      <td>3</td>\n",
       "      <td>1</td>\n",
       "      <td>0</td>\n",
       "      <td>0</td>\n",
       "    </tr>\n",
       "    <tr>\n",
       "      <th>5</th>\n",
       "      <td>0</td>\n",
       "      <td>0</td>\n",
       "      <td>0</td>\n",
       "      <td>3</td>\n",
       "      <td>1</td>\n",
       "      <td>1</td>\n",
       "      <td>1</td>\n",
       "    </tr>\n",
       "    <tr>\n",
       "      <th>6</th>\n",
       "      <td>5</td>\n",
       "      <td>1</td>\n",
       "      <td>2</td>\n",
       "      <td>2</td>\n",
       "      <td>0</td>\n",
       "      <td>1</td>\n",
       "      <td>1</td>\n",
       "    </tr>\n",
       "    <tr>\n",
       "      <th>7</th>\n",
       "      <td>3</td>\n",
       "      <td>0</td>\n",
       "      <td>1</td>\n",
       "      <td>1</td>\n",
       "      <td>0</td>\n",
       "      <td>1</td>\n",
       "      <td>1</td>\n",
       "    </tr>\n",
       "    <tr>\n",
       "      <th>8</th>\n",
       "      <td>15</td>\n",
       "      <td>1</td>\n",
       "      <td>5</td>\n",
       "      <td>1</td>\n",
       "      <td>0</td>\n",
       "      <td>0</td>\n",
       "      <td>1</td>\n",
       "    </tr>\n",
       "    <tr>\n",
       "      <th>9</th>\n",
       "      <td>0</td>\n",
       "      <td>0</td>\n",
       "      <td>0</td>\n",
       "      <td>1</td>\n",
       "      <td>0</td>\n",
       "      <td>0</td>\n",
       "      <td>0</td>\n",
       "    </tr>\n",
       "    <tr>\n",
       "      <th>10</th>\n",
       "      <td>1</td>\n",
       "      <td>0</td>\n",
       "      <td>1</td>\n",
       "      <td>3</td>\n",
       "      <td>1</td>\n",
       "      <td>0</td>\n",
       "      <td>0</td>\n",
       "    </tr>\n",
       "    <tr>\n",
       "      <th>11</th>\n",
       "      <td>4</td>\n",
       "      <td>1</td>\n",
       "      <td>1</td>\n",
       "      <td>1</td>\n",
       "      <td>0</td>\n",
       "      <td>1</td>\n",
       "      <td>1</td>\n",
       "    </tr>\n",
       "    <tr>\n",
       "      <th>12</th>\n",
       "      <td>0</td>\n",
       "      <td>0</td>\n",
       "      <td>0</td>\n",
       "      <td>3</td>\n",
       "      <td>1</td>\n",
       "      <td>0</td>\n",
       "      <td>1</td>\n",
       "    </tr>\n",
       "  </tbody>\n",
       "</table>\n",
       "</div>"
      ],
      "text/plain": [
       "    Years Experience  Employed?  Previous employers  Level of Education  \\\n",
       "0                 10          1                   4                   1   \n",
       "1                  0          0                   0                   1   \n",
       "2                  7          0                   6                   1   \n",
       "3                  2          1                   1                   2   \n",
       "4                 20          0                   2                   3   \n",
       "5                  0          0                   0                   3   \n",
       "6                  5          1                   2                   2   \n",
       "7                  3          0                   1                   1   \n",
       "8                 15          1                   5                   1   \n",
       "9                  0          0                   0                   1   \n",
       "10                 1          0                   1                   3   \n",
       "11                 4          1                   1                   1   \n",
       "12                 0          0                   0                   3   \n",
       "\n",
       "    Top-tier school  Interned  Hired  \n",
       "0                 0         0      1  \n",
       "1                 1         1      1  \n",
       "2                 0         0      0  \n",
       "3                 1         0      1  \n",
       "4                 1         0      0  \n",
       "5                 1         1      1  \n",
       "6                 0         1      1  \n",
       "7                 0         1      1  \n",
       "8                 0         0      1  \n",
       "9                 0         0      0  \n",
       "10                1         0      0  \n",
       "11                0         1      1  \n",
       "12                1         0      1  "
      ]
     },
     "execution_count": 10,
     "metadata": {},
     "output_type": "execute_result"
    }
   ],
   "source": [
    "YN={'Y': 1, 'N':0}\n",
    "\n",
    "data0['Employed?']=data0['Employed?'].map(YN)\n",
    "data0['Top-tier school']=data0['Top-tier school'].map(YN)\n",
    "data0['Interned']=data0['Interned'].map(YN)\n",
    "data0['Hired']=data0['Hired'].map(YN)\n",
    "data0['Level of Education']=data0['Level of Education'].map({'BS':1,'MS':2,'PhD':3})\n",
    "\n",
    "data0"
   ]
  },
  {
   "cell_type": "code",
   "execution_count": 11,
   "metadata": {},
   "outputs": [
    {
     "data": {
      "text/plain": [
       "Years Experience      0\n",
       "Employed?             0\n",
       "Previous employers    0\n",
       "Level of Education    0\n",
       "Top-tier school       0\n",
       "Interned              0\n",
       "Hired                 0\n",
       "dtype: int64"
      ]
     },
     "execution_count": 11,
     "metadata": {},
     "output_type": "execute_result"
    }
   ],
   "source": [
    "data0.isnull().sum()"
   ]
  },
  {
   "cell_type": "code",
   "execution_count": 12,
   "metadata": {},
   "outputs": [],
   "source": [
    "feature=list(data0.columns[:6])"
   ]
  },
  {
   "cell_type": "code",
   "execution_count": 13,
   "metadata": {},
   "outputs": [
    {
     "data": {
      "text/plain": [
       "Years Experience      0\n",
       "Employed?             0\n",
       "Previous employers    0\n",
       "Level of Education    0\n",
       "Top-tier school       0\n",
       "Interned              0\n",
       "Hired                 0\n",
       "dtype: int64"
      ]
     },
     "execution_count": 13,
     "metadata": {},
     "output_type": "execute_result"
    }
   ],
   "source": [
    "data0.isnull().sum()"
   ]
  },
  {
   "cell_type": "code",
   "execution_count": 14,
   "metadata": {},
   "outputs": [
    {
     "name": "stdout",
     "output_type": "stream",
     "text": [
      "['Years Experience' 'Employed?' 'Previous employers' 'Level of Education'\n",
      " 'Top-tier school' 'Interned' 'Hired']\n",
      "7\n"
     ]
    }
   ],
   "source": [
    "print(data0.columns.values)\n",
    "print(len(data0.columns.values))"
   ]
  },
  {
   "cell_type": "code",
   "execution_count": 15,
   "metadata": {},
   "outputs": [
    {
     "data": {
      "text/plain": [
       "['Years Experience',\n",
       " 'Employed?',\n",
       " 'Previous employers',\n",
       " 'Level of Education',\n",
       " 'Top-tier school',\n",
       " 'Interned']"
      ]
     },
     "execution_count": 15,
     "metadata": {},
     "output_type": "execute_result"
    }
   ],
   "source": [
    "feature=list(data0.columns[:6])\n",
    "feature"
   ]
  },
  {
   "cell_type": "code",
   "execution_count": 16,
   "metadata": {},
   "outputs": [],
   "source": [
    "from sklearn import tree"
   ]
  },
  {
   "cell_type": "code",
   "execution_count": 17,
   "metadata": {},
   "outputs": [],
   "source": [
    "x=data0[feature]\n",
    "y=data0[\"Hired\"]"
   ]
  },
  {
   "cell_type": "code",
   "execution_count": 18,
   "metadata": {},
   "outputs": [],
   "source": [
    "clf01=tree.DecisionTreeClassifier()"
   ]
  },
  {
   "cell_type": "code",
   "execution_count": 19,
   "metadata": {},
   "outputs": [],
   "source": [
    "DT=clf01.fit(x,y)"
   ]
  },
  {
   "cell_type": "code",
   "execution_count": 20,
   "metadata": {},
   "outputs": [
    {
     "data": {
      "image/png": "[encoded data removed]",
      "text/plain": [
       "<Figure size 720x720 with 1 Axes>"
      ]
     },
     "metadata": {
      "needs_background": "light"
     },
     "output_type": "display_data"
    }
   ],
   "source": [
    "plt.figure(figsize=(10,10))\n",
    "tree.plot_tree(DT,feature_names=feature,fontsize=15)\n",
    "plt.show()"
   ]
  },
  {
   "cell_type": "code",
   "execution_count": 53,
   "metadata": {},
   "outputs": [],
   "source": [
    "from sklearn.ensemble import RandomForestClassifier"
   ]
  },
  {
   "cell_type": "code",
   "execution_count": 54,
   "metadata": {},
   "outputs": [],
   "source": [
    "clf02=RandomForestClassifier(n_estimators=20)"
   ]
  },
  {
   "cell_type": "code",
   "execution_count": 55,
   "metadata": {},
   "outputs": [],
   "source": [
    "RF=clf02.fit(x,y)"
   ]
  },
  {
   "cell_type": "code",
   "execution_count": 56,
   "metadata": {},
   "outputs": [],
   "source": [
    "import random"
   ]
  },
  {
   "cell_type": "code",
   "execution_count": 57,
   "metadata": {},
   "outputs": [
    {
     "data": {
      "text/plain": [
       "array(['Years Experience', 'Employed?', 'Previous employers',\n",
       "       'Level of Education', 'Top-tier school', 'Interned', 'Hired'],\n",
       "      dtype=object)"
      ]
     },
     "execution_count": 57,
     "metadata": {},
     "output_type": "execute_result"
    }
   ],
   "source": [
    "data0.columns.values"
   ]
  },
  {
   "cell_type": "code",
   "execution_count": 61,
   "metadata": {},
   "outputs": [
    {
     "name": "stdout",
     "output_type": "stream",
     "text": [
      "[[15, 0, 2, 2, 0, 0]]\n",
      "[1]\n",
      "[[12, 0, 5, 2, 0, 1]]\n",
      "[1]\n",
      "[[8, 1, 4, 3, 0, 1]]\n",
      "[1]\n",
      "[[5, 0, 1, 3, 0, 1]]\n",
      "[1]\n",
      "[[18, 0, 3, 3, 0, 1]]\n",
      "[1]\n",
      "[[19, 0, 5, 3, 1, 0]]\n",
      "[0]\n",
      "[[5, 0, 3, 3, 0, 1]]\n",
      "[1]\n",
      "[[19, 0, 4, 3, 0, 0]]\n",
      "[0]\n",
      "[[17, 0, 5, 3, 0, 0]]\n",
      "[0]\n",
      "[[6, 1, 0, 2, 1, 1]]\n",
      "[1]\n",
      "[[11, 1, 4, 2, 0, 0]]\n",
      "[1]\n",
      "[[10, 0, 5, 3, 0, 0]]\n",
      "[0]\n",
      "[[4, 0, 0, 1, 1, 1]]\n",
      "[1]\n",
      "[[4, 1, 5, 3, 1, 1]]\n",
      "[1]\n",
      "[[9, 0, 1, 1, 0, 1]]\n",
      "[1]\n",
      "[[18, 0, 3, 1, 1, 0]]\n",
      "[1]\n",
      "[[12, 0, 3, 2, 0, 1]]\n",
      "[1]\n",
      "[[18, 0, 0, 2, 1, 1]]\n",
      "[1]\n",
      "[[17, 0, 1, 3, 1, 0]]\n",
      "[0]\n",
      "[[0, 1, 5, 2, 0, 0]]\n",
      "[1]\n",
      "[[1, 1, 3, 3, 1, 0]]\n",
      "[1]\n",
      "[[1, 1, 1, 2, 1, 1]]\n",
      "[1]\n",
      "[[9, 1, 3, 2, 0, 1]]\n",
      "[1]\n",
      "[[7, 0, 1, 3, 0, 0]]\n",
      "[0]\n",
      "[[1, 0, 5, 3, 0, 0]]\n",
      "[0]\n",
      "[[4, 0, 2, 3, 1, 1]]\n",
      "[1]\n",
      "[[15, 1, 1, 3, 1, 0]]\n",
      "[1]\n",
      "[[18, 1, 1, 2, 1, 1]]\n",
      "[1]\n",
      "[[5, 0, 0, 2, 1, 0]]\n",
      "[0]\n",
      "[[5, 1, 5, 3, 0, 0]]\n",
      "[1]\n",
      "[[14, 1, 5, 2, 0, 0]]\n",
      "[1]\n",
      "[[15, 1, 4, 3, 1, 0]]\n",
      "[1]\n",
      "[[0, 1, 1, 2, 1, 1]]\n",
      "[1]\n",
      "[[7, 1, 5, 2, 0, 1]]\n",
      "[1]\n",
      "[[19, 0, 4, 1, 1, 0]]\n",
      "[1]\n",
      "[[10, 1, 3, 1, 0, 0]]\n",
      "[1]\n",
      "[[9, 1, 0, 1, 0, 1]]\n",
      "[1]\n",
      "[[8, 0, 5, 1, 0, 1]]\n",
      "[1]\n",
      "[[16, 1, 0, 1, 1, 1]]\n",
      "[1]\n",
      "[[16, 1, 0, 2, 0, 1]]\n",
      "[1]\n",
      "[[1, 0, 4, 2, 1, 1]]\n",
      "[1]\n",
      "[[15, 1, 4, 2, 1, 1]]\n",
      "[1]\n",
      "[[12, 0, 2, 2, 1, 0]]\n",
      "[1]\n",
      "[[3, 0, 1, 3, 1, 0]]\n",
      "[0]\n",
      "[[3, 1, 2, 1, 1, 0]]\n",
      "[1]\n",
      "[[20, 1, 3, 2, 0, 1]]\n",
      "[1]\n",
      "[[12, 1, 5, 3, 1, 0]]\n",
      "[1]\n",
      "[[3, 0, 4, 2, 0, 0]]\n",
      "[0]\n",
      "[[11, 0, 2, 1, 0, 1]]\n",
      "[1]\n",
      "[[12, 0, 4, 3, 1, 0]]\n",
      "[0]\n",
      "[[9, 1, 5, 2, 0, 1]]\n",
      "[1]\n",
      "[[11, 1, 3, 2, 1, 0]]\n",
      "[1]\n",
      "[[4, 0, 0, 1, 0, 1]]\n",
      "[1]\n",
      "[[11, 0, 2, 1, 1, 1]]\n",
      "[1]\n",
      "[[12, 0, 0, 2, 1, 0]]\n",
      "[1]\n",
      "[[0, 1, 4, 1, 0, 0]]\n",
      "[1]\n",
      "[[6, 1, 4, 2, 1, 1]]\n",
      "[1]\n",
      "[[5, 0, 0, 3, 1, 1]]\n",
      "[1]\n",
      "[[0, 0, 5, 2, 0, 1]]\n",
      "[1]\n",
      "[[4, 1, 4, 1, 1, 1]]\n",
      "[1]\n",
      "[[16, 0, 0, 1, 0, 1]]\n",
      "[1]\n",
      "[[10, 1, 4, 2, 0, 0]]\n",
      "[1]\n",
      "[[0, 0, 4, 2, 1, 0]]\n",
      "[1]\n",
      "[[10, 1, 4, 1, 0, 0]]\n",
      "[1]\n",
      "[[7, 1, 0, 1, 1, 0]]\n",
      "[1]\n",
      "[[12, 1, 0, 2, 0, 0]]\n",
      "[1]\n",
      "[[15, 0, 5, 2, 1, 1]]\n",
      "[1]\n",
      "[[4, 0, 3, 2, 0, 0]]\n",
      "[0]\n",
      "[[2, 0, 2, 1, 0, 0]]\n",
      "[0]\n",
      "[[11, 1, 2, 1, 0, 0]]\n",
      "[1]\n",
      "[[15, 1, 0, 1, 0, 1]]\n",
      "[1]\n",
      "[[13, 0, 1, 1, 0, 1]]\n",
      "[1]\n",
      "[[16, 1, 0, 3, 0, 0]]\n",
      "[1]\n",
      "[[1, 1, 5, 2, 0, 0]]\n",
      "[1]\n",
      "[[19, 0, 0, 2, 0, 0]]\n",
      "[0]\n",
      "[[14, 1, 0, 1, 0, 1]]\n",
      "[1]\n",
      "[[18, 1, 5, 2, 1, 0]]\n",
      "[1]\n",
      "[[20, 0, 0, 2, 1, 1]]\n",
      "[1]\n",
      "[[19, 0, 5, 2, 0, 1]]\n",
      "[1]\n",
      "[[20, 0, 1, 2, 0, 0]]\n",
      "[1]\n",
      "[[17, 0, 1, 3, 1, 0]]\n",
      "[0]\n",
      "[[8, 0, 5, 2, 0, 1]]\n",
      "[1]\n",
      "[[16, 0, 0, 1, 1, 1]]\n",
      "[1]\n",
      "[[10, 0, 2, 3, 1, 1]]\n",
      "[1]\n",
      "[[3, 0, 0, 3, 1, 0]]\n",
      "[1]\n",
      "[[5, 1, 1, 1, 0, 0]]\n",
      "[1]\n",
      "[[19, 1, 3, 1, 0, 1]]\n",
      "[1]\n",
      "[[11, 1, 3, 2, 1, 0]]\n",
      "[1]\n",
      "[[0, 1, 5, 1, 1, 1]]\n",
      "[1]\n",
      "[[8, 0, 4, 2, 0, 0]]\n",
      "[0]\n",
      "[[18, 0, 4, 2, 1, 1]]\n",
      "[1]\n",
      "[[5, 1, 4, 3, 1, 1]]\n",
      "[1]\n",
      "[[17, 0, 5, 3, 0, 1]]\n",
      "[1]\n",
      "[[4, 0, 0, 1, 0, 1]]\n",
      "[1]\n",
      "[[10, 1, 5, 2, 1, 1]]\n",
      "[1]\n",
      "[[17, 1, 3, 1, 0, 1]]\n",
      "[1]\n",
      "[[15, 0, 4, 2, 0, 1]]\n",
      "[1]\n",
      "[[14, 0, 1, 1, 1, 1]]\n",
      "[1]\n",
      "[[14, 0, 0, 1, 1, 0]]\n",
      "[1]\n",
      "[[8, 0, 1, 3, 1, 1]]\n",
      "[1]\n"
     ]
    }
   ],
   "source": [
    "for i in range (100):\n",
    "    criteria01=random.randint(0,20)\n",
    "    criteria02=random.randint(0,1)\n",
    "    criteria03=random.randint(0,5)\n",
    "    criteria04=random.randint(1,3)\n",
    "    criteria05=random.randint(0,1)\n",
    "    criteria06=random.randint(0,1)\n",
    "    \n",
    "    print ([[criteria01,criteria02,criteria03,criteria04,criteria05,criteria06]])\n",
    "    \n",
    "    print(RF.predict([[criteria01,criteria02,criteria03,criteria04,criteria05,criteria06]]))"
   ]
  }
 ],
 "metadata": {
  "kernelspec": {
   "display_name": "Python 3",
   "language": "python",
   "name": "python3"
  },
  "language_info": {
   "codemirror_mode": {
    "name": "ipython",
    "version": 3
   },
   "file_extension": ".py",
   "mimetype": "text/x-python",
   "name": "python",
   "nbconvert_exporter": "python",
   "pygments_lexer": "ipython3",
   "version": "3.7.6"
  }
 },
 "nbformat": 4,
 "nbformat_minor": 4
}
